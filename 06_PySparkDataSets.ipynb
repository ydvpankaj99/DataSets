{
  "nbformat": 4,
  "nbformat_minor": 0,
  "metadata": {
    "colab": {
      "name": "06.PySparkDataSets.ipynb",
      "provenance": [],
      "collapsed_sections": [],
      "include_colab_link": true
    },
    "kernelspec": {
      "name": "python3",
      "display_name": "Python 3"
    },
    "language_info": {
      "name": "python"
    }
  },
  "cells": [
    {
      "cell_type": "markdown",
      "metadata": {
        "id": "view-in-github",
        "colab_type": "text"
      },
      "source": [
        "<a href=\"https://colab.research.google.com/github/ydvpankaj99/DataSets/blob/master/06_PySparkDataSets.ipynb\" target=\"_parent\"><img src=\"https://colab.research.google.com/assets/colab-badge.svg\" alt=\"Open In Colab\"/></a>"
      ]
    },
    {
      "cell_type": "code",
      "source": [
        "!pip install pyspark"
      ],
      "metadata": {
        "id": "jXiWjFpfVgEf"
      },
      "execution_count": null,
      "outputs": []
    },
    {
      "cell_type": "code",
      "source": [
        "import pyspark\n",
        "from pyspark.sql import SparkSession\n",
        "\n",
        "spark=SparkSession.builder.master(\"local[1]\").appName(\"abc.com\").getOrCreate()"
      ],
      "metadata": {
        "id": "-uGX42wuVO2x"
      },
      "execution_count": null,
      "outputs": []
    },
    {
      "cell_type": "code",
      "execution_count": null,
      "metadata": {
        "colab": {
          "base_uri": "https://localhost:8080/"
        },
        "id": "tZxnSeI7VKjS",
        "outputId": "fd32591c-ff1f-4e66-de4f-03940c7e7423"
      },
      "outputs": [
        {
          "output_type": "stream",
          "name": "stdout",
          "text": [
            "+-----+-----+\n",
            "|   _1|   _2|\n",
            "+-----+-----+\n",
            "|Scala|25000|\n",
            "|Spark|35000|\n",
            "|  PHP|21000|\n",
            "+-----+-----+\n",
            "\n"
          ]
        }
      ],
      "source": [
        "df = spark.createDataFrame(\n",
        "    [(\"Scala\", 25000), (\"Spark\", 35000), (\"PHP\", 21000)])\n",
        "df.show()"
      ]
    },
    {
      "cell_type": "code",
      "source": [
        "help(spark)"
      ],
      "metadata": {
        "id": "Ug1tXvmdV2uz"
      },
      "execution_count": null,
      "outputs": []
    },
    {
      "cell_type": "code",
      "source": [
        "dir(spark)\n",
        "#Display Internal Record = DIR"
      ],
      "metadata": {
        "id": "wVqSM9oJXakb"
      },
      "execution_count": null,
      "outputs": []
    },
    {
      "cell_type": "code",
      "source": [
        "help(spark.sql)"
      ],
      "metadata": {
        "id": "ijvofrL7Xmeo"
      },
      "execution_count": null,
      "outputs": []
    },
    {
      "cell_type": "code",
      "source": [
        "strTempViewName=\"sample_tempView\"\n",
        "df.createOrReplaceTempView(strTempViewName)\n",
        "sqlQuery=\"select * from \"+strTempViewName\n",
        "df2=spark.sql(sqlQuery)\n",
        "df2.show()"
      ],
      "metadata": {
        "id": "ArxV9kzgXsc8"
      },
      "execution_count": null,
      "outputs": []
    },
    {
      "cell_type": "code",
      "source": [
        "spark.table(strTempViewName).write.mode(\"overwrite\").saveAsTable(\"tvto_hive_table\")\n",
        "df3=spark.sql(\"select _1,_2 from tvto_hive_table\")\n",
        "df3.show()"
      ],
      "metadata": {
        "colab": {
          "base_uri": "https://localhost:8080/"
        },
        "id": "tbu-iRFFZG6D",
        "outputId": "aafef1ea-23c1-4615-dbbd-bc2373c43fe1"
      },
      "execution_count": null,
      "outputs": [
        {
          "output_type": "stream",
          "name": "stdout",
          "text": [
            "+-----+-----+\n",
            "|   _1|   _2|\n",
            "+-----+-----+\n",
            "|Scala|25000|\n",
            "|Spark|35000|\n",
            "|  PHP|21000|\n",
            "+-----+-----+\n",
            "\n"
          ]
        }
      ]
    },
    {
      "cell_type": "code",
      "source": [
        "dbs=spark.catalog.listDatabases()\n",
        "tbls=spark.catalog.listTables()\n",
        "print(dbs)\n",
        "print(tbls)"
      ],
      "metadata": {
        "colab": {
          "base_uri": "https://localhost:8080/"
        },
        "id": "uDog4HLybsrX",
        "outputId": "13f4c2d8-11af-4ac7-a699-e128b23018e8"
      },
      "execution_count": null,
      "outputs": [
        {
          "output_type": "stream",
          "name": "stdout",
          "text": [
            "[Database(name='default', description='default database', locationUri='file:/content/spark-warehouse')]\n",
            "[Table(name='tvto_hive_table', database='default', description=None, tableType='MANAGED', isTemporary=False), Table(name='sample_tempview', database=None, description=None, tableType='TEMPORARY', isTemporary=True)]\n"
          ]
        }
      ]
    },
    {
      "cell_type": "code",
      "source": [
        ""
      ],
      "metadata": {
        "id": "bVyWwumFd09P"
      },
      "execution_count": null,
      "outputs": []
    }
  ]
}